{
  "nbformat": 4,
  "nbformat_minor": 0,
  "metadata": {
    "colab": {
      "provenance": [],
      "toc_visible": true,
      "authorship_tag": "ABX9TyOVzzV/7Pm0KDKXF4I2mbTU",
      "include_colab_link": true
    },
    "kernelspec": {
      "name": "python3",
      "display_name": "Python 3"
    },
    "language_info": {
      "name": "python"
    }
  },
  "cells": [
    {
      "cell_type": "markdown",
      "metadata": {
        "id": "view-in-github",
        "colab_type": "text"
      },
      "source": [
        "<a href=\"https://colab.research.google.com/github/Mathezera/Engenharia-ProD/blob/main/matheus_aulas.ipynb\" target=\"_parent\"><img src=\"https://colab.research.google.com/assets/colab-badge.svg\" alt=\"Open In Colab\"/></a>"
      ]
    },
    {
      "cell_type": "code",
      "execution_count": null,
      "metadata": {
        "id": "gVa061umYkgR"
      },
      "outputs": [],
      "source": []
    },
    {
      "cell_type": "markdown",
      "source": [
        "Atividade 1"
      ],
      "metadata": {
        "id": "iytYPW53b8sz"
      }
    },
    {
      "cell_type": "markdown",
      "source": [],
      "metadata": {
        "id": "tdYePLYcgCKt"
      }
    },
    {
      "cell_type": "code",
      "source": [
        "polegadas = float(input(\"Digite a medida em polegada: \"))\n",
        "milimetro = polegadas * 25,4\n",
        "print(\"f{polegadas} polegadas é igual a {milimetro:.2f} milimetro.') \")\n",
        "\n"
      ],
      "metadata": {
        "colab": {
          "base_uri": "https://localhost:8080/"
        },
        "id": "n4bgEWJZcAba",
        "outputId": "8a5c343c-e5de-4ac9-d03b-2383de7971c4"
      },
      "execution_count": 7,
      "outputs": [
        {
          "output_type": "stream",
          "name": "stdout",
          "text": [
            "Digite a medida em polegada: 2\n",
            "f{polegadas} polegadas é igual a {milimetro:.2f} milimetro.') \n"
          ]
        }
      ]
    },
    {
      "cell_type": "markdown",
      "source": [
        "Atividade 2"
      ],
      "metadata": {
        "id": "7rJUxVhSmMym"
      }
    },
    {
      "cell_type": "code",
      "source": [
        "idade = int(input(\"Digite a sua idade: \"))\n",
        "if 16 <= idade < 70:\n",
        "  print(\"Voce pode votar.\")\n",
        "else:\n",
        "  print(\"Voce nao pode votar.\")"
      ],
      "metadata": {
        "colab": {
          "base_uri": "https://localhost:8080/"
        },
        "id": "GqjbHNZ2mERa",
        "outputId": "d74eb750-eee0-4ec0-c607-e08fee3115c6"
      },
      "execution_count": 8,
      "outputs": [
        {
          "output_type": "stream",
          "name": "stdout",
          "text": [
            "Digite a sua idade: 12\n",
            "Voce nao pode votar.\n"
          ]
        }
      ]
    },
    {
      "cell_type": "markdown",
      "source": [
        "atividade 3"
      ],
      "metadata": {
        "id": "OEiRyfwinX3X"
      }
    },
    {
      "cell_type": "code",
      "source": [
        "#comentarios\n",
        "num = int(input(\"digite o valor:\"))\n",
        "print(num)\n",
        "quoc = num/2\n",
        "resto = num%2\n",
        "print(\"quociente =\",quoc)\n",
        "print(\"resto =\",resto)"
      ],
      "metadata": {
        "colab": {
          "base_uri": "https://localhost:8080/"
        },
        "id": "sq9IKkF0na7_",
        "outputId": "98aabd8f-4d1c-49e2-8b6b-a1b3186df979"
      },
      "execution_count": 10,
      "outputs": [
        {
          "output_type": "stream",
          "name": "stdout",
          "text": [
            "digite o valor:67\n",
            "67\n",
            "quociente = 33.5\n",
            "resto = 1\n"
          ]
        }
      ]
    },
    {
      "cell_type": "markdown",
      "source": [
        "# New section"
      ],
      "metadata": {
        "id": "74zzXsDcoZIi"
      }
    }
  ]
}